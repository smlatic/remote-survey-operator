{
 "cells": [
  {
   "attachments": {},
   "cell_type": "markdown",
   "metadata": {},
   "source": [
    "### Testing for parsing some KPIs from log file."
   ]
  },
  {
   "cell_type": "code",
   "execution_count": 48,
   "metadata": {},
   "outputs": [],
   "source": [
    "import pandas as pd\n",
    "import re\n",
    "import datetime\n",
    "\n",
    "def extract_box_name(line):\n",
    "    match = re.findall(r'([A-Z]+_\\d+)', str(line))\n",
    "    if match:\n",
    "        return match[0]\n",
    "    else:\n",
    "        return None\n",
    "\n",
    "def extract_line(line):\n",
    "    match = re.findall(r'([A-Z]+_\\d+)_(.+)', str(line))\n",
    "    if match:\n",
    "        return match[0][1]\n",
    "    else:\n",
    "        return None\n",
    "\n",
    "# read data\n",
    "df = pd.read_excel('Onlinelog.xlsm', sheet_name='Survey', skiprows=2)\n",
    "\n",
    "# handle date and time\n",
    "df['Time'] = df['Time'].astype(str).str.split('.').str[0]\n",
    "df['Date_Time'] = pd.to_datetime(df['Date'].dt.strftime('%Y-%m-%d') + ' ' + df['Time'])\n",
    "\n",
    "# extract box_name and line from \"Run Line/Target\" using regex\n",
    "df['box_name'] = df['Run Line/Target'].apply(extract_box_name)\n",
    "df['line'] = df['Run Line/Target'].apply(extract_line)\n",
    "\n",
    "# filter Log on and Log off events\n",
    "df = df[df['Event'].isin(['Log on', 'Log off', 'Log on DNP'])]\n",
    "\n",
    "# sort the values\n",
    "df = df.sort_values(['box_name', 'line', 'Date_Time'])\n",
    "\n",
    "# list to store rows\n",
    "rows = []\n",
    "\n",
    "# iterate over the dataframe\n",
    "for box_name in df['box_name'].dropna().unique():\n",
    "    temp_df = df[df['box_name'] == box_name]\n",
    "    for line in temp_df['line'].dropna().unique():\n",
    "        line_df = temp_df[temp_df['line'] == line]\n",
    "        log_on = line_df[line_df['Event'].isin(['Log on', 'Log on DNP'])]\n",
    "        log_off = line_df[line_df['Event'] == 'Log off']\n",
    "        \n",
    "        if not log_on.empty and not log_off.empty:\n",
    "            duration_seconds = int((log_off.iloc[-1]['Date_Time'] - log_on.iloc[0]['Date_Time']).total_seconds())\n",
    "            duration = str(datetime.timedelta(seconds=duration_seconds))\n",
    "\n",
    "            multiple_runs = f\"Multiple runs: {len(log_on)}\" if len(log_on) > 1 else \"\"\n",
    "            row = {\n",
    "                'box_name': box_name,\n",
    "                'line': line,\n",
    "                'operator': log_on.iloc[0]['Op.'],\n",
    "                'start_time': log_on.iloc[0]['Date_Time'].strftime('%Y-%m-%d %H:%M:%S'),\n",
    "                'end_time': log_off.iloc[-1]['Date_Time'].strftime('%Y-%m-%d %H:%M:%S'),\n",
    "                'duration': duration,\n",
    "                'multiple_runs': multiple_runs\n",
    "            }\n",
    "            rows.append(row)\n",
    "\n",
    "# create dataframe from rows\n",
    "result = pd.DataFrame(rows)\n",
    "\n",
    "# save to excel\n",
    "result.to_excel('output.xlsx', index=False)\n"
   ]
  },
  {
   "cell_type": "code",
   "execution_count": null,
   "metadata": {},
   "outputs": [],
   "source": []
  }
 ],
 "metadata": {
  "kernelspec": {
   "display_name": "Python 3",
   "language": "python",
   "name": "python3"
  },
  "language_info": {
   "codemirror_mode": {
    "name": "ipython",
    "version": 3
   },
   "file_extension": ".py",
   "mimetype": "text/x-python",
   "name": "python",
   "nbconvert_exporter": "python",
   "pygments_lexer": "ipython3",
   "version": "3.11.3"
  },
  "orig_nbformat": 4
 },
 "nbformat": 4,
 "nbformat_minor": 2
}
